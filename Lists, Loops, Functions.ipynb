{
 "cells": [
  {
   "cell_type": "code",
   "execution_count": 3,
   "metadata": {},
   "outputs": [],
   "source": [
    "\n",
    "#Revision of lists, loops, Functions\n",
    "#Create a function (sort_lists) that give a list of integers will return the list sorted from smallest to largest\n",
    "def sort_list(my_list):\n",
    "    length = len(my_list)\n",
    "    for i in range(0,length):\n",
    "        for j in range(i+1, length):\n",
    "            if my_list[i]> my_list[j]:\n",
    "                my_list[i], my_list[j] = my_list[j], my_list[i]\n",
    "    return my_list\n",
    "        \n",
    "  "
   ]
  },
  {
   "cell_type": "code",
   "execution_count": 6,
   "metadata": {},
   "outputs": [
    {
     "name": "stdout",
     "output_type": "stream",
     "text": [
      "[20, 23, 36, 45, 76]\n"
     ]
    }
   ],
   "source": [
    "a = sort_list([23, 45, 36, 20, 76])\n",
    "print(a)\n"
   ]
  },
  {
   "cell_type": "code",
   "execution_count": 7,
   "metadata": {},
   "outputs": [],
   "source": [
    "def multiply(x,y):\n",
    "    print(x*y)"
   ]
  },
  {
   "cell_type": "code",
   "execution_count": 11,
   "metadata": {},
   "outputs": [
    {
     "name": "stdout",
     "output_type": "stream",
     "text": [
      "6\n"
     ]
    }
   ],
   "source": [
    "m = lambda x,y: print(x*y)\n",
    "m(2,3)\n"
   ]
  },
  {
   "cell_type": "code",
   "execution_count": 16,
   "metadata": {},
   "outputs": [
    {
     "ename": "TypeError",
     "evalue": "Users() takes no arguments",
     "output_type": "error",
     "traceback": [
      "\u001b[1;31m---------------------------------------------------------------------------\u001b[0m",
      "\u001b[1;31mTypeError\u001b[0m                                 Traceback (most recent call last)",
      "\u001b[1;32mc:\\Users\\ROBERT-KORIR\\Desktop\\Data Science\\FCC\\Lists, Loops, Functions.ipynb Cell 5\u001b[0m in \u001b[0;36m<cell line: 12>\u001b[1;34m()\u001b[0m\n\u001b[0;32m     <a href='vscode-notebook-cell:/c%3A/Users/ROBERT-KORIR/Desktop/Data%20Science/FCC/Lists%2C%20Loops%2C%20Functions.ipynb#W5sZmlsZQ%3D%3D?line=9'>10</a>\u001b[0m     \u001b[39mif\u001b[39;00m \u001b[39mself\u001b[39m\u001b[39m.\u001b[39mage \u001b[39m>\u001b[39m\u001b[39m70\u001b[39m:\n\u001b[0;32m     <a href='vscode-notebook-cell:/c%3A/Users/ROBERT-KORIR/Desktop/Data%20Science/FCC/Lists%2C%20Loops%2C%20Functions.ipynb#W5sZmlsZQ%3D%3D?line=10'>11</a>\u001b[0m         \u001b[39mprint\u001b[39m(\u001b[39m'\u001b[39m\u001b[39mYou get a 50\u001b[39m\u001b[39m% d\u001b[39;00m\u001b[39miscount\u001b[39m\u001b[39m'\u001b[39m)\n\u001b[1;32m---> <a href='vscode-notebook-cell:/c%3A/Users/ROBERT-KORIR/Desktop/Data%20Science/FCC/Lists%2C%20Loops%2C%20Functions.ipynb#W5sZmlsZQ%3D%3D?line=11'>12</a>\u001b[0m user \u001b[39m=\u001b[39m Users(\u001b[39m'\u001b[39;49m\u001b[39mRK\u001b[39;49m\u001b[39m'\u001b[39;49m, \u001b[39m78\u001b[39;49m)\n\u001b[0;32m     <a href='vscode-notebook-cell:/c%3A/Users/ROBERT-KORIR/Desktop/Data%20Science/FCC/Lists%2C%20Loops%2C%20Functions.ipynb#W5sZmlsZQ%3D%3D?line=12'>13</a>\u001b[0m user\u001b[39m.\u001b[39mgreet()\n\u001b[0;32m     <a href='vscode-notebook-cell:/c%3A/Users/ROBERT-KORIR/Desktop/Data%20Science/FCC/Lists%2C%20Loops%2C%20Functions.ipynb#W5sZmlsZQ%3D%3D?line=13'>14</a>\u001b[0m user\u001b[39m.\u001b[39mreward()\n",
      "\u001b[1;31mTypeError\u001b[0m: Users() takes no arguments"
     ]
    }
   ],
   "source": [
    "class Users():\n",
    "    #constructor\n",
    "    def _init_(self, name, age):\n",
    "        self.name = name\n",
    "        self.age = age\n",
    "#instance methods\n",
    "def greet(self):\n",
    "    print('hello', self.name)\n",
    "def reward(self):\n",
    "    if self.age >70:\n",
    "        print('You get a 50% discount')\n",
    "user = Users('RK', 78)\n",
    "user.greet()\n",
    "user.reward()\n",
    "\n",
    "        \n",
    "    "
   ]
  }
 ],
 "metadata": {
  "kernelspec": {
   "display_name": "Python 3.9.12 ('base')",
   "language": "python",
   "name": "python3"
  },
  "language_info": {
   "codemirror_mode": {
    "name": "ipython",
    "version": 3
   },
   "file_extension": ".py",
   "mimetype": "text/x-python",
   "name": "python",
   "nbconvert_exporter": "python",
   "pygments_lexer": "ipython3",
   "version": "3.9.12"
  },
  "orig_nbformat": 4,
  "vscode": {
   "interpreter": {
    "hash": "bb17388b874165ffb3be26bf0ec0fac928a7454db090c78a9806047f3ceb57f6"
   }
  }
 },
 "nbformat": 4,
 "nbformat_minor": 2
}
